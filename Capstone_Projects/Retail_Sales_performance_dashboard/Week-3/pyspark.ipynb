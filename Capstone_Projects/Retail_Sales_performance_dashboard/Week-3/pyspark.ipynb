{
  "nbformat": 4,
  "nbformat_minor": 0,
  "metadata": {
    "colab": {
      "provenance": []
    },
    "kernelspec": {
      "name": "python3",
      "display_name": "Python 3"
    },
    "language_info": {
      "name": "python"
    }
  },
  "cells": [
    {
      "cell_type": "code",
      "execution_count": 1,
      "metadata": {
        "colab": {
          "base_uri": "https://localhost:8080/"
        },
        "id": "K1-R-om2FKQV",
        "outputId": "1a2bab29-e19e-4b8b-c014-3269910577df"
      },
      "outputs": [
        {
          "output_type": "stream",
          "name": "stdout",
          "text": [
            "Sales Schema\n",
            "root\n",
            " |-- sale_id: integer (nullable = true)\n",
            " |-- product_id: integer (nullable = true)\n",
            " |-- store_id: integer (nullable = true)\n",
            " |-- employee_id: integer (nullable = true)\n",
            " |-- quantity: integer (nullable = true)\n",
            " |-- price: integer (nullable = true)\n",
            " |-- discount: integer (nullable = true)\n",
            " |-- returns: integer (nullable = true)\n",
            " |-- sale_date: date (nullable = true)\n",
            "\n",
            "Products Schema\n",
            "root\n",
            " |-- product_id: integer (nullable = true)\n",
            " |-- product_name: string (nullable = true)\n",
            " |-- category: string (nullable = true)\n",
            " |-- price: integer (nullable = true)\n",
            "\n"
          ]
        }
      ],
      "source": [
        "from pyspark.sql import SparkSession\n",
        "from pyspark.sql.functions import col, sum as spark_sum, avg, month, year\n",
        "\n",
        "spark = SparkSession.builder.appName(\"RetailSalesInsights\").getOrCreate()\n",
        "\n",
        "# Load sales and product data\n",
        "sales_df = spark.read.csv(\"sales.csv\", header=True, inferSchema=True)\n",
        "products_df = spark.read.csv(\"products.csv\", header=True, inferSchema=True)\n",
        "\n",
        "print(\"Sales Schema\")\n",
        "sales_df.printSchema()\n",
        "\n",
        "print(\"Products Schema\")\n",
        "products_df.printSchema()\n"
      ]
    },
    {
      "cell_type": "code",
      "source": [
        "product_sales = sales_df.groupBy(\"product_id\").agg(\n",
        "    spark_sum(\"quantity\").alias(\"total_quantity\")\n",
        ")\n",
        "\n",
        "# Filter underperforming\n",
        "underperforming = product_sales.filter(col(\"total_quantity\") < 5)\n",
        "\n",
        "print(\"Underperforming Products:\")\n",
        "underperforming.show()\n"
      ],
      "metadata": {
        "colab": {
          "base_uri": "https://localhost:8080/"
        },
        "id": "48l4AUyEGLDN",
        "outputId": "f0783811-a2a5-4314-c7eb-18f167f7ac7b"
      },
      "execution_count": 2,
      "outputs": [
        {
          "output_type": "stream",
          "name": "stdout",
          "text": [
            "Underperforming Products:\n",
            "+----------+--------------+\n",
            "|product_id|total_quantity|\n",
            "+----------+--------------+\n",
            "|         3|             2|\n",
            "|         4|             1|\n",
            "+----------+--------------+\n",
            "\n"
          ]
        }
      ]
    },
    {
      "cell_type": "code",
      "source": [
        "# Revenue column\n",
        "sales_df = sales_df.withColumn(\"revenue\", col(\"quantity\") * col(\"price\"))\n",
        "\n",
        "# Add month, year columns\n",
        "sales_df = sales_df.withColumn(\"month\", month(\"sale_date\"))\n",
        "sales_df = sales_df.withColumn(\"year\", year(\"sale_date\"))\n",
        "\n",
        "# Average monthly revenue per store\n",
        "monthly_revenue = sales_df.groupBy(\"store_id\", \"year\", \"month\") \\\n",
        "    .agg(spark_sum(\"revenue\").alias(\"monthly_revenue\"))\n",
        "\n",
        "avg_monthly_revenue = monthly_revenue.groupBy(\"store_id\") \\\n",
        "    .agg(avg(\"monthly_revenue\").alias(\"avg_monthly_revenue\"))\n",
        "\n",
        "print(\"Average Monthly Revenue per Store:\")\n",
        "avg_monthly_revenue.show()\n"
      ],
      "metadata": {
        "colab": {
          "base_uri": "https://localhost:8080/"
        },
        "id": "P08XWto1Ga2i",
        "outputId": "39b912e5-2150-49a7-b627-9542f97f2e06"
      },
      "execution_count": 3,
      "outputs": [
        {
          "output_type": "stream",
          "name": "stdout",
          "text": [
            "Average Monthly Revenue per Store:\n",
            "+--------+-------------------+\n",
            "|store_id|avg_monthly_revenue|\n",
            "+--------+-------------------+\n",
            "|       1| 113666.66666666667|\n",
            "|       2|            92500.0|\n",
            "+--------+-------------------+\n",
            "\n"
          ]
        }
      ]
    },
    {
      "cell_type": "code",
      "source": [
        "# Save underperforming products\n",
        "underperforming.write.mode(\"overwrite\").csv(\"underperforming_products.csv\", header=True)\n",
        "\n",
        "# Save store summary\n",
        "avg_monthly_revenue.write.mode(\"overwrite\").csv(\"store_avg_monthly_revenue.csv\", header=True)\n",
        "\n",
        "print(\"🎉 Outputs saved: underperforming_products.csv & store_avg_monthly_revenue.csv\")\n"
      ],
      "metadata": {
        "colab": {
          "base_uri": "https://localhost:8080/"
        },
        "id": "Zv-LTl5QHdPD",
        "outputId": "1c00264e-eb3f-4e14-c1fb-39e03f3e5461"
      },
      "execution_count": 4,
      "outputs": [
        {
          "output_type": "stream",
          "name": "stdout",
          "text": [
            "🎉 Outputs saved: underperforming_products.csv & store_avg_monthly_revenue.csv\n"
          ]
        }
      ]
    }
  ]
}