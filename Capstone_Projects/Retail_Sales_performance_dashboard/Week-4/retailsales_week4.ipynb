{
 "cells": [
  {
   "cell_type": "code",
   "execution_count": 0,
   "metadata": {
    "application/vnd.databricks.v1+cell": {
     "cellMetadata": {
      "byteLimit": 2048000,
      "rowLimit": 10000
     },
     "inputWidgets": {},
     "nuid": "66392f40-079d-4a86-8ff5-6ac4a2c421cd",
     "showTitle": false,
     "tableResultSettingsMap": {},
     "title": ""
    }
   },
   "outputs": [
    {
     "output_type": "stream",
     "name": "stdout",
     "output_type": "stream",
     "text": [
      "✅ Sales Schema:\nroot\n |-- sale_id: integer (nullable = true)\n |-- product_id: integer (nullable = true)\n |-- store_id: integer (nullable = true)\n |-- employee_id: integer (nullable = true)\n |-- quantity: integer (nullable = true)\n |-- price: integer (nullable = true)\n |-- discount: integer (nullable = true)\n |-- sale_date: date (nullable = true)\n |-- revenue: integer (nullable = true)\n |-- discount_percentage: double (nullable = true)\n |-- cost: double (nullable = true)\n |-- profit: double (nullable = true)\n\n✅ Products Schema:\nroot\n |-- product_id: integer (nullable = true)\n |-- product_name: string (nullable = true)\n |-- category: string (nullable = true)\n |-- price: integer (nullable = true)\n\n"
     ]
    }
   ],
   "source": [
    "from pyspark.sql import SparkSession\n",
    "\n",
    "# Spark session (Databricks already has one by default)\n",
    "spark = SparkSession.builder.appName(\"RetailETL\").getOrCreate()\n",
    "\n",
    "# Load data\n",
    "sales_df = spark.read.csv(\"/FileStore/tables/sales_cleaned_week4.csv\", header=True, inferSchema=True)\n",
    "products_df = spark.read.csv(\"/FileStore/tables/products.csv\", header=True, inferSchema=True)\n",
    "\n",
    "print(\"✅ Sales Schema:\")\n",
    "sales_df.printSchema()\n",
    "\n",
    "print(\"✅ Products Schema:\")\n",
    "products_df.printSchema()\n"
   ]
  },
  {
   "cell_type": "code",
   "execution_count": 0,
   "metadata": {
    "application/vnd.databricks.v1+cell": {
     "cellMetadata": {
      "byteLimit": 2048000,
      "rowLimit": 10000
     },
     "inputWidgets": {},
     "nuid": "db9149b4-64ff-4bb7-9a75-b83977dacac5",
     "showTitle": false,
     "tableResultSettingsMap": {},
     "title": ""
    }
   },
   "outputs": [
    {
     "output_type": "stream",
     "name": "stdout",
     "output_type": "stream",
     "text": [
      "+----------+------------+--------+-------+-------+-------------+\n|product_id|product_name|category|revenue| profit|profit_margin|\n+----------+------------+--------+-------+-------+-------------+\n|         3|        NULL|    NULL|  30000| 9000.0|         30.0|\n|         4|        NULL|    NULL|  35000|10500.0|         30.0|\n|         2|        NULL|    NULL|  75000|22500.0|         30.0|\n|         1|        NULL|    NULL| 300000|90000.0|         30.0|\n|         1|        NULL|    NULL| 120000|36000.0|         30.0|\n+----------+------------+--------+-------+-------+-------------+\n\n"
     ]
    }
   ],
   "source": [
    "from pyspark.sql.functions import col, sum as spark_sum, avg\n",
    "\n",
    "# Join sales with product info\n",
    "joined_df = sales_df.join(products_df, on=\"product_id\", how=\"left\")\n",
    "\n",
    "# Calculate profit margin\n",
    "# profit_margin = (profit / revenue) * 100\n",
    "joined_df = joined_df.withColumn(\"profit_margin\", (col(\"profit\") / col(\"revenue\")) * 100)\n",
    "\n",
    "# Show joined data\n",
    "joined_df.select(\"product_id\", \"product_name\", \"category\", \"revenue\", \"profit\", \"profit_margin\").show(10)\n"
   ]
  },
  {
   "cell_type": "code",
   "execution_count": 0,
   "metadata": {
    "application/vnd.databricks.v1+cell": {
     "cellMetadata": {
      "byteLimit": 2048000,
      "rowLimit": 10000
     },
     "inputWidgets": {},
     "nuid": "459decd4-e838-4ce7-a8c8-9b5f7d3a6a50",
     "showTitle": false,
     "tableResultSettingsMap": {},
     "title": ""
    }
   },
   "outputs": [
    {
     "output_type": "stream",
     "name": "stdout",
     "output_type": "stream",
     "text": [
      "\uD83D\uDCC8 Profit Margin by Category\n+--------+-------------+------------+-----------------+\n|category|total_revenue|total_profit|avg_profit_margin|\n+--------+-------------+------------+-----------------+\n|    NULL|       560000|    168000.0|             30.0|\n+--------+-------------+------------+-----------------+\n\n"
     ]
    }
   ],
   "source": [
    "category_metrics = joined_df.groupBy(\"category\").agg(\n",
    "    spark_sum(\"revenue\").alias(\"total_revenue\"),\n",
    "    spark_sum(\"profit\").alias(\"total_profit\"),\n",
    "    avg(\"profit_margin\").alias(\"avg_profit_margin\")\n",
    ")\n",
    "\n",
    "print(\"Profit Margin by Category\")\n",
    "category_metrics.show()\n"
   ]
  },
  {
   "cell_type": "code",
   "execution_count": 0,
   "metadata": {
    "application/vnd.databricks.v1+cell": {
     "cellMetadata": {
      "byteLimit": 2048000,
      "rowLimit": 10000
     },
     "inputWidgets": {},
     "nuid": "792b1fd6-281b-4217-9e7e-57c8b77797b6",
     "showTitle": false,
     "tableResultSettingsMap": {},
     "title": ""
    }
   },
   "outputs": [
    {
     "output_type": "stream",
     "name": "stdout",
     "output_type": "stream",
     "text": [
      "✅ Category metrics saved in DBFS\n"
     ]
    }
   ],
   "source": [
    "# Save as Delta table (recommended in Databricks)\n",
    "category_metrics.write.mode(\"overwrite\").format(\"delta\").save(\"/FileStore/tables/category_metrics_delta\")\n",
    "\n",
    "# OR save as CSV if needed\n",
    "category_metrics.write.mode(\"overwrite\").option(\"header\", \"true\").csv(\"/FileStore/tables/category_metrics_csv\")\n",
    "\n",
    "print(\"✅ Category metrics saved in DBFS\")\n"
   ]
  },
  {
   "cell_type": "code",
   "execution_count": 0,
   "metadata": {
    "application/vnd.databricks.v1+cell": {
     "cellMetadata": {
      "byteLimit": 2048000,
      "rowLimit": 10000
     },
     "inputWidgets": {},
     "nuid": "401fa183-f6e6-4a71-ac9f-01beefa6c89f",
     "showTitle": false,
     "tableResultSettingsMap": {},
     "title": ""
    }
   },
   "outputs": [],
   "source": [
    "joined_df.createOrReplaceTempView(\"joined_df\")"
   ]
  },
  {
   "cell_type": "code",
   "execution_count": 0,
   "metadata": {
    "application/vnd.databricks.v1+cell": {
     "cellMetadata": {
      "byteLimit": 2048000,
      "implicitDf": true,
      "rowLimit": 10000
     },
     "inputWidgets": {},
     "nuid": "b25faa8f-39e4-4b95-8eab-7251484f9634",
     "showTitle": false,
     "tableResultSettingsMap": {},
     "title": ""
    }
   },
   "outputs": [
    {
     "output_type": "display_data",
     "data": {
      "text/html": [
       "<style scoped>\n",
       "  .table-result-container {\n",
       "    max-height: 300px;\n",
       "    overflow: auto;\n",
       "  }\n",
       "  table, th, td {\n",
       "    border: 1px solid black;\n",
       "    border-collapse: collapse;\n",
       "  }\n",
       "  th, td {\n",
       "    padding: 5px;\n",
       "  }\n",
       "  th {\n",
       "    text-align: left;\n",
       "  }\n",
       "</style><div class='table-result-container'><table class='table-result'><thead style='background-color: white'><tr><th>product_name</th><th>total_revenue</th></tr></thead><tbody><tr><td>null</td><td>560000</td></tr></tbody></table></div>"
      ]
     },
     "metadata": {
      "application/vnd.databricks.v1+output": {
       "addedWidgets": {},
       "aggData": [],
       "aggError": "",
       "aggOverflow": false,
       "aggSchema": [],
       "aggSeriesLimitReached": false,
       "aggType": "",
       "arguments": {},
       "columnCustomDisplayInfos": {},
       "data": [
        [
         null,
         560000
        ]
       ],
       "datasetInfos": [
        {
         "name": "_sqldf",
         "schema": {
          "fields": [
           {
            "metadata": {},
            "name": "product_name",
            "nullable": true,
            "type": "string"
           },
           {
            "metadata": {},
            "name": "total_revenue",
            "nullable": true,
            "type": "long"
           }
          ],
          "type": "struct"
         },
         "tableIdentifier": null,
         "typeStr": "pyspark.sql.connect.dataframe.DataFrame"
        }
       ],
       "dbfsResultPath": null,
       "isJsonSchema": true,
       "metadata": {
        "createTempViewForImplicitDf": true,
        "dataframeName": "_sqldf",
        "executionCount": 16
       },
       "overflow": false,
       "plotOptions": {
        "customPlotOptions": {},
        "displayType": "table",
        "pivotAggregation": null,
        "pivotColumns": null,
        "xColumns": null,
        "yColumns": null
       },
       "removedWidgets": [],
       "schema": [
        {
         "metadata": "{}",
         "name": "product_name",
         "type": "\"string\""
        },
        {
         "metadata": "{}",
         "name": "total_revenue",
         "type": "\"long\""
        }
       ],
       "type": "table"
      }
     },
     "output_type": "display_data"
    }
   ],
   "source": [
    "%sql\n",
    "SELECT product_name, SUM(revenue) AS total_revenue\n",
    "FROM joined_df\n",
    "GROUP BY product_name\n",
    "ORDER BY total_revenue DESC\n",
    "LIMIT 3;\n"
   ]
  }
 ],
 "metadata": {
  "application/vnd.databricks.v1+notebook": {
   "computePreferences": null,
   "dashboards": [],
   "environmentMetadata": {
    "base_environment": "",
    "environment_version": "3"
   },
   "inputWidgetPreferences": null,
   "language": "python",
   "notebookMetadata": {
    "mostRecentlyExecutedCommandWithImplicitDF": {
     "commandId": 5828788861753311,
     "dataframes": [
      "_sqldf"
     ]
    },
    "pythonIndentUnit": 4
   },
   "notebookName": "retailsales_week4",
   "widgets": {}
  },
  "language_info": {
   "name": "python"
  }
 },
 "nbformat": 4,
 "nbformat_minor": 0
}