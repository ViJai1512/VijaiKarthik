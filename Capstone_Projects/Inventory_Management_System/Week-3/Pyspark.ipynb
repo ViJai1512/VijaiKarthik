{
  "nbformat": 4,
  "nbformat_minor": 0,
  "metadata": {
    "colab": {
      "provenance": []
    },
    "kernelspec": {
      "name": "python3",
      "display_name": "Python 3"
    },
    "language_info": {
      "name": "python"
    }
  },
  "cells": [
    {
      "cell_type": "code",
      "execution_count": 5,
      "metadata": {
        "id": "nm7v_3QGIO9j"
      },
      "outputs": [],
      "source": [
        "from pyspark.sql import SparkSession\n",
        "from pyspark.sql.functions import col, when, sum as spark_sum\n",
        "\n",
        "spark = SparkSession.builder.appName(\"WarehouseStockAnalysis\").getOrCreate()\n",
        "\n",
        "# 2. Load Stock Movement Data\n",
        "df = spark.read.csv(\"stock_movements.csv\", header=True, inferSchema=True)\n"
      ]
    },
    {
      "cell_type": "code",
      "source": [
        "warehouse_stock = (\n",
        "    df.groupBy(\"warehouse_id\", \"product_id\")\n",
        "      .agg(spark_sum(\"quantity\").alias(\"total_quantity\"))\n",
        ")"
      ],
      "metadata": {
        "id": "SUrdqiAGKDYA"
      },
      "execution_count": 7,
      "outputs": []
    },
    {
      "cell_type": "code",
      "source": [
        "# Identify understocked\n",
        "understocked = warehouse_stock.filter(col(\"total_quantity\") <= 10)\n",
        "\n",
        "# Identify overstocked\n",
        "overstocked = warehouse_stock.filter(col(\"total_quantity\") >= 100)"
      ],
      "metadata": {
        "id": "OEItq65gKOYz"
      },
      "execution_count": 8,
      "outputs": []
    },
    {
      "cell_type": "code",
      "source": [
        "# Save results to CSV\n",
        "warehouse_stock.write.mode(\"overwrite\").csv(\"output/warehouse_stock_summary\")\n",
        "understocked.write.mode(\"overwrite\").csv(\"output/understocked_items\")\n",
        "overstocked.write.mode(\"overwrite\").csv(\"output/overstocked_items\")"
      ],
      "metadata": {
        "id": "rSqj4U6_MNZc"
      },
      "execution_count": 9,
      "outputs": []
    },
    {
      "cell_type": "code",
      "source": [
        "# Show results\n",
        "print(\"=== Warehouse Stock Summary ===\")\n",
        "warehouse_stock.show(10)\n",
        "\n",
        "print(\"=== Understocked Items ===\")\n",
        "understocked.show(10)\n",
        "\n",
        "print(\"=== Overstocked Items ===\")\n",
        "overstocked.show(10)"
      ],
      "metadata": {
        "colab": {
          "base_uri": "https://localhost:8080/"
        },
        "id": "p9OA-Y5hMakv",
        "outputId": "b8991305-b116-4c89-ea20-8362ee6177fc"
      },
      "execution_count": 10,
      "outputs": [
        {
          "output_type": "stream",
          "name": "stdout",
          "text": [
            "=== Warehouse Stock Summary ===\n",
            "+------------+----------+--------------+\n",
            "|warehouse_id|product_id|total_quantity|\n",
            "+------------+----------+--------------+\n",
            "|          W2|       104|             5|\n",
            "|          W2|       101|           120|\n",
            "|          W1|       105|           300|\n",
            "|          W1|       102|             8|\n",
            "|          W1|       104|            50|\n",
            "|          W1|       101|             5|\n",
            "|          W3|       105|             9|\n",
            "|          W3|       102|            15|\n",
            "|          W3|       103|             2|\n",
            "|          W2|       103|           200|\n",
            "+------------+----------+--------------+\n",
            "\n",
            "=== Understocked Items ===\n",
            "+------------+----------+--------------+\n",
            "|warehouse_id|product_id|total_quantity|\n",
            "+------------+----------+--------------+\n",
            "|          W2|       104|             5|\n",
            "|          W1|       102|             8|\n",
            "|          W1|       101|             5|\n",
            "|          W3|       105|             9|\n",
            "|          W3|       103|             2|\n",
            "+------------+----------+--------------+\n",
            "\n",
            "=== Overstocked Items ===\n",
            "+------------+----------+--------------+\n",
            "|warehouse_id|product_id|total_quantity|\n",
            "+------------+----------+--------------+\n",
            "|          W2|       101|           120|\n",
            "|          W1|       105|           300|\n",
            "|          W2|       103|           200|\n",
            "+------------+----------+--------------+\n",
            "\n"
          ]
        }
      ]
    }
  ]
}