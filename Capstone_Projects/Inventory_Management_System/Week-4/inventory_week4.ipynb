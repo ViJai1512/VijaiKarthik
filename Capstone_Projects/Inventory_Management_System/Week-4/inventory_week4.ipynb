{
 "cells": [
  {
   "cell_type": "code",
   "execution_count": 0,
   "metadata": {
    "application/vnd.databricks.v1+cell": {
     "cellMetadata": {
      "byteLimit": 2048000,
      "rowLimit": 10000
     },
     "inputWidgets": {},
     "nuid": "d9292ebe-7266-406a-833d-43f48b8d7767",
     "showTitle": false,
     "tableResultSettingsMap": {},
     "title": ""
    }
   },
   "outputs": [
    {
     "output_type": "stream",
     "name": "stdout",
     "output_type": "stream",
     "text": [
      "Product and Stock DataFrames loaded from CSV files.\n+----------+------------+-----------+-----------------+\n|product_id|product_name|   category|reorder_threshold|\n+----------+------------+-----------+-----------------+\n|       101|      Laptop|Electronics|               20|\n|       102|       Mouse|Electronics|               50|\n|       103|  Desk Chair|  Furniture|               15|\n|       104|    Keyboard|Electronics|               30|\n+----------+------------+-----------+-----------------+\n\n+----------+------------+-------------+\n|product_id|warehouse_id|current_stock|\n+----------+------------+-------------+\n|       101|     W_NORTH|           15|\n|       102|     W_NORTH|          100|\n|       103|     W_SOUTH|           25|\n|       101|     W_SOUTH|           50|\n|       104|     W_NORTH|           10|\n+----------+------------+-------------+\n\n"
     ]
    }
   ],
   "source": [
    "from pyspark.sql import SparkSession\n",
    "from pyspark.sql.functions import col, when\n",
    "\n",
    "spark = SparkSession.builder.appName(\"Week4_ETL_from_CSV\").getOrCreate()\n",
    "\n",
    "product_csv_path = \"/FileStore/tables/products1.csv\"\n",
    "stock_csv_path = \"/FileStore/tables/stocks.csv\"\n",
    "\n",
    "products_df = spark.read.csv(product_csv_path, header=True, inferSchema=True)\n",
    "stock_df = spark.read.csv(stock_csv_path, header=True, inferSchema=True)\n",
    "\n",
    "print(\"Product and Stock DataFrames loaded from CSV files.\")\n",
    "products_df.show()\n",
    "stock_df.show()\n"
   ]
  },
  {
   "cell_type": "code",
   "execution_count": 0,
   "metadata": {
    "application/vnd.databricks.v1+cell": {
     "cellMetadata": {
      "byteLimit": 2048000,
      "rowLimit": 10000
     },
     "inputWidgets": {},
     "nuid": "0bf2a5bc-9d3b-47f2-b201-faf900f77116",
     "showTitle": false,
     "tableResultSettingsMap": {},
     "title": ""
    }
   },
   "outputs": [
    {
     "output_type": "stream",
     "name": "stdout",
     "output_type": "stream",
     "text": [
      "Joined Master Inventory DataFrame:\n+----------+------------+-------------+------------+-----------+-----------------+\n|product_id|warehouse_id|current_stock|product_name|   category|reorder_threshold|\n+----------+------------+-------------+------------+-----------+-----------------+\n|       101|     W_SOUTH|           50|      Laptop|Electronics|               20|\n|       103|     W_SOUTH|           25|  Desk Chair|  Furniture|               15|\n|       102|     W_NORTH|          100|       Mouse|Electronics|               50|\n|       104|     W_NORTH|           10|    Keyboard|Electronics|               30|\n|       101|     W_NORTH|           15|      Laptop|Electronics|               20|\n+----------+------------+-------------+------------+-----------+-----------------+\n\n"
     ]
    }
   ],
   "source": [
    "# view of the inventory.\n",
    "inventory_df = stock_df.join(products_df, on=\"product_id\", how=\"left\")\n",
    "\n",
    "print(\"Joined Master Inventory DataFrame:\")\n",
    "inventory_df.show()"
   ]
  },
  {
   "cell_type": "code",
   "execution_count": 0,
   "metadata": {
    "application/vnd.databricks.v1+cell": {
     "cellMetadata": {
      "byteLimit": 2048000,
      "rowLimit": 10000
     },
     "inputWidgets": {},
     "nuid": "80e3c2b3-88d4-4677-93fb-0c3293336fb7",
     "showTitle": false,
     "tableResultSettingsMap": {},
     "title": ""
    }
   },
   "outputs": [
    {
     "output_type": "stream",
     "name": "stdout",
     "output_type": "stream",
     "text": [
      "Master Inventory View with Reorder Flag:\n+----------+------------+-------------+------------+-----------+-----------------+------------+\n|product_id|warehouse_id|current_stock|product_name|   category|reorder_threshold|reorder_flag|\n+----------+------------+-------------+------------+-----------+-----------------+------------+\n|       101|     W_SOUTH|           50|      Laptop|Electronics|               20|       false|\n|       103|     W_SOUTH|           25|  Desk Chair|  Furniture|               15|       false|\n|       102|     W_NORTH|          100|       Mouse|Electronics|               50|       false|\n|       104|     W_NORTH|           10|    Keyboard|Electronics|               30|        true|\n|       101|     W_NORTH|           15|      Laptop|Electronics|               20|        true|\n+----------+------------+-------------+------------+-----------+-----------------+------------+\n\n"
     ]
    }
   ],
   "source": [
    "# Create a master inventory view with a reorder flag \n",
    "master_inventory_view = inventory_df.withColumn(\n",
    "    \"reorder_flag\",\n",
    "    when(col(\"current_stock\") < col(\"reorder_threshold\"), True)\n",
    "    .otherwise(False)\n",
    ")\n",
    "\n",
    "print(\"Master Inventory View with Reorder Flag:\")\n",
    "master_inventory_view.show()"
   ]
  },
  {
   "cell_type": "code",
   "execution_count": 0,
   "metadata": {
    "application/vnd.databricks.v1+cell": {
     "cellMetadata": {
      "byteLimit": 2048000,
      "rowLimit": 10000
     },
     "inputWidgets": {},
     "nuid": "2d112cf2-4574-4757-8a8e-23080174ee32",
     "showTitle": false,
     "tableResultSettingsMap": {},
     "title": ""
    }
   },
   "outputs": [
    {
     "output_type": "stream",
     "name": "stdout",
     "output_type": "stream",
     "text": [
      "Successfully saved final inventory to Delta table at /mnt/inventory/master_inventory_delta\nSuccessfully saved final inventory to CSV at /mnt/inventory/master_inventory_csv\n"
     ]
    }
   ],
   "source": [
    "# Save as a Delta table (recommended in Databricks)\n",
    "delta_path = \"/mnt/inventory/master_inventory_delta\"\n",
    "master_inventory_view.write.format(\"delta\").mode(\"overwrite\").save(delta_path)\n",
    "print(f\"Successfully saved final inventory to Delta table at {delta_path}\")\n",
    "\n",
    "#  Save as a CSV file\n",
    "csv_path = \"/mnt/inventory/master_inventory_csv\"\n",
    "master_inventory_view.write.format(\"csv\").option(\"header\", \"true\").mode(\"overwrite\").save(csv_path)\n",
    "print(f\"Successfully saved final inventory to CSV at {csv_path}\")"
   ]
  }
 ],
 "metadata": {
  "application/vnd.databricks.v1+notebook": {
   "computePreferences": null,
   "dashboards": [],
   "environmentMetadata": {
    "base_environment": "",
    "environment_version": "3"
   },
   "inputWidgetPreferences": null,
   "language": "python",
   "notebookMetadata": {
    "pythonIndentUnit": 4
   },
   "notebookName": "inventory_week4",
   "widgets": {}
  },
  "language_info": {
   "name": "python"
  }
 },
 "nbformat": 4,
 "nbformat_minor": 0
}