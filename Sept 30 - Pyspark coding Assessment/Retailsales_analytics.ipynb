{
  "nbformat": 4,
  "nbformat_minor": 0,
  "metadata": {
    "colab": {
      "provenance": []
    },
    "kernelspec": {
      "name": "python3",
      "display_name": "Python 3"
    },
    "language_info": {
      "name": "python"
    }
  },
  "cells": [
    {
      "cell_type": "code",
      "execution_count": 1,
      "metadata": {
        "colab": {
          "base_uri": "https://localhost:8080/"
        },
        "id": "g6bXmC91ufGv",
        "outputId": "7e614fdd-db05-4383-d662-ac77b924f8d6"
      },
      "outputs": [
        {
          "output_type": "stream",
          "name": "stdout",
          "text": [
            "DataFrames created successfully!\n",
            "+-----------+------------+---------+---+\n",
            "|customer_id|        name|     city|age|\n",
            "+-----------+------------+---------+---+\n",
            "|          1|Rahul Sharma|Bangalore| 28|\n",
            "|          2| Priya Singh|    Delhi| 32|\n",
            "|          3|  Aman Kumar|Hyderabad| 25|\n",
            "|          4| Sneha Reddy|  Chennai| 35|\n",
            "|          5| Arjun Mehta|   Mumbai| 30|\n",
            "|          6|  Divya Nair|    Delhi| 29|\n",
            "+-----------+------------+---------+---+\n",
            "\n",
            "+----------+------------+-----------+-----+\n",
            "|product_id|product_name|   category|price|\n",
            "+----------+------------+-----------+-----+\n",
            "|       101|      Laptop|Electronics|55000|\n",
            "|       102|      Mobile|Electronics|25000|\n",
            "|       103|  Headphones|Electronics| 3000|\n",
            "|       104|       Chair|  Furniture| 5000|\n",
            "|       105|        Book| Stationery|  700|\n",
            "|       106|       Shoes|    Fashion| 2500|\n",
            "+----------+------------+-----------+-----+\n",
            "\n",
            "+--------+-----------+----------+--------+----------+\n",
            "|order_id|customer_id|product_id|quantity|order_date|\n",
            "+--------+-----------+----------+--------+----------+\n",
            "|    1001|          1|       101|       1|2024-01-10|\n",
            "|    1002|          2|       102|       2|2024-01-12|\n",
            "|    1003|          1|       103|       3|2024-02-05|\n",
            "|    1004|          3|       104|       1|2024-02-08|\n",
            "|    1005|          5|       105|       5|2024-03-01|\n",
            "|    1006|          6|       106|       2|2024-03-15|\n",
            "|    1007|          7|       101|       1|2024-03-20|\n",
            "+--------+-----------+----------+--------+----------+\n",
            "\n",
            "root\n",
            " |-- order_id: long (nullable = true)\n",
            " |-- customer_id: long (nullable = true)\n",
            " |-- product_id: long (nullable = true)\n",
            " |-- quantity: long (nullable = true)\n",
            " |-- order_date: date (nullable = true)\n",
            "\n"
          ]
        }
      ],
      "source": [
        "\n",
        "from pyspark.sql import SparkSession\n",
        "from pyspark.sql.functions import col, avg, desc, sum as _sum, count, month, year\n",
        "import matplotlib.pyplot as plt\n",
        "import seaborn as sns\n",
        "import pandas as pd\n",
        "\n",
        "\n",
        "spark = SparkSession.builder.appName(\"Retail-Capstone\").getOrCreate()\n",
        "\n",
        "sc = spark.sparkContext\n",
        "\n",
        "# Customers DataFrame\n",
        "customers_data = [\n",
        "    (1, \"Rahul Sharma\", \"Bangalore\", 28),\n",
        "    (2, \"Priya Singh\", \"Delhi\", 32),\n",
        "    (3, \"Aman Kumar\", \"Hyderabad\", 25),\n",
        "    (4, \"Sneha Reddy\", \"Chennai\", 35),\n",
        "    (5, \"Arjun Mehta\", \"Mumbai\", 30),\n",
        "    (6, \"Divya Nair\", \"Delhi\", 29)\n",
        "]\n",
        "customers_cols = [\"customer_id\", \"name\", \"city\", \"age\"]\n",
        "customers_df = spark.createDataFrame(customers_data, customers_cols)\n",
        "\n",
        "# Products DataFrame\n",
        "products_data = [\n",
        "    (101, \"Laptop\", \"Electronics\", 55000),\n",
        "    (102, \"Mobile\", \"Electronics\", 25000),\n",
        "    (103, \"Headphones\", \"Electronics\", 3000),\n",
        "    (104, \"Chair\", \"Furniture\", 5000),\n",
        "    (105, \"Book\", \"Stationery\", 700),\n",
        "    (106, \"Shoes\", \"Fashion\", 2500)\n",
        "]\n",
        "products_cols = [\"product_id\", \"product_name\", \"category\", \"price\"]\n",
        "products_df = spark.createDataFrame(products_data, products_cols)\n",
        "\n",
        "# Orders DataFrame\n",
        "orders_data = [\n",
        "    (1001, 1, 101, 1, \"2024-01-10\"),\n",
        "    (1002, 2, 102, 2, \"2024-01-12\"),\n",
        "    (1003, 1, 103, 3, \"2024-02-05\"),\n",
        "    (1004, 3, 104, 1, \"2024-02-08\"),\n",
        "    (1005, 5, 105, 5, \"2024-03-01\"),\n",
        "    (1006, 6, 106, 2, \"2024-03-15\"),\n",
        "    (1007, 7, 101, 1, \"2024-03-20\")\n",
        "]\n",
        "orders_cols = [\"order_id\", \"customer_id\", \"product_id\", \"quantity\", \"order_date\"]\n",
        "orders_df = spark.createDataFrame(orders_data, orders_cols)\n",
        "\n",
        "orders_df = orders_df.withColumn(\"order_date\", col(\"order_date\").cast(\"date\"))\n",
        "\n",
        "print(\"DataFrames created successfully!\")\n",
        "customers_df.show()\n",
        "products_df.show()\n",
        "orders_df.show()\n",
        "orders_df.printSchema()"
      ]
    },
    {
      "cell_type": "code",
      "source": [
        "# Convert a list of numbers into an RDD\n",
        "numbers_list = [10, 20, 30, 40, 50]\n",
        "numbers_rdd = sc.parallelize(numbers_list)\n",
        "\n",
        "# Find sum, max, min, and average\n",
        "rdd_sum = numbers_rdd.sum()\n",
        "rdd_max = numbers_rdd.max()\n",
        "rdd_min = numbers_rdd.min()\n",
        "rdd_avg = numbers_rdd.mean()\n",
        "\n",
        "print(f\"RDD: {numbers_rdd.collect()}\")\n",
        "print(f\"Sum: {rdd_sum}\")\n",
        "print(f\"Max: {rdd_max}\")\n",
        "print(f\"Min: {rdd_min}\")\n",
        "print(f\"Average: {rdd_avg}\")"
      ],
      "metadata": {
        "colab": {
          "base_uri": "https://localhost:8080/"
        },
        "id": "2osVQtawyFqz",
        "outputId": "91f1bc2e-da5d-4f04-a786-01156e2567d3"
      },
      "execution_count": 2,
      "outputs": [
        {
          "output_type": "stream",
          "name": "stdout",
          "text": [
            "RDD: [10, 20, 30, 40, 50]\n",
            "Sum: 150\n",
            "Max: 50\n",
            "Min: 10\n",
            "Average: 30.0\n"
          ]
        }
      ]
    },
    {
      "cell_type": "code",
      "source": [
        "# Create an RDD of sentences\n",
        "sentences_list = [\"hello world\", \"spark is fun\", \"hello spark\"]\n",
        "sentences_rdd = sc.parallelize(sentences_list)\n",
        "\n",
        "# Perform word count\n",
        "word_counts = sentences_rdd.flatMap(lambda line: line.split(\" \")) \\\n",
        "                           .map(lambda word: (word, 1)) \\\n",
        "                           .reduceByKey(lambda a, b: a + b)\n",
        "\n",
        "print(\"Word Count Results:\")\n",
        "print(word_counts.collect())"
      ],
      "metadata": {
        "colab": {
          "base_uri": "https://localhost:8080/"
        },
        "id": "KXCchOjWyZZz",
        "outputId": "ee6bb0d2-934f-478c-dfc8-847da782efea"
      },
      "execution_count": 3,
      "outputs": [
        {
          "output_type": "stream",
          "name": "stdout",
          "text": [
            "Word Count Results:\n",
            "[('hello', 2), ('world', 1), ('fun', 1), ('spark', 2), ('is', 1)]\n"
          ]
        }
      ]
    },
    {
      "cell_type": "code",
      "source": [
        "print(\"Customer Names and Cities:\")\n",
        "customers_df.select(\"name\", \"city\").show()\n",
        "\n",
        "print(\"Customer Names and Cities:\")\n",
        "customers_df.select(\"name\", \"city\").show()\n",
        "\n",
        "print(\"Distinct product categories:\")\n",
        "products_df.select(\"category\").distinct().show()\n",
        "\n",
        "print(\"Top 3 most expensive products:\")\n",
        "products_df.orderBy(desc(\"price\")).show(3)"
      ],
      "metadata": {
        "colab": {
          "base_uri": "https://localhost:8080/"
        },
        "id": "i85a0tsJyeDK",
        "outputId": "c9ca69d4-c83d-4146-e70c-9f4406a1055b"
      },
      "execution_count": 4,
      "outputs": [
        {
          "output_type": "stream",
          "name": "stdout",
          "text": [
            "Customer Names and Cities:\n",
            "+------------+---------+\n",
            "|        name|     city|\n",
            "+------------+---------+\n",
            "|Rahul Sharma|Bangalore|\n",
            "| Priya Singh|    Delhi|\n",
            "|  Aman Kumar|Hyderabad|\n",
            "| Sneha Reddy|  Chennai|\n",
            "| Arjun Mehta|   Mumbai|\n",
            "|  Divya Nair|    Delhi|\n",
            "+------------+---------+\n",
            "\n",
            "Customer Names and Cities:\n",
            "+------------+---------+\n",
            "|        name|     city|\n",
            "+------------+---------+\n",
            "|Rahul Sharma|Bangalore|\n",
            "| Priya Singh|    Delhi|\n",
            "|  Aman Kumar|Hyderabad|\n",
            "| Sneha Reddy|  Chennai|\n",
            "| Arjun Mehta|   Mumbai|\n",
            "|  Divya Nair|    Delhi|\n",
            "+------------+---------+\n",
            "\n",
            "Distinct product categories:\n",
            "+-----------+\n",
            "|   category|\n",
            "+-----------+\n",
            "|Electronics|\n",
            "| Stationery|\n",
            "|    Fashion|\n",
            "|  Furniture|\n",
            "+-----------+\n",
            "\n",
            "Top 3 most expensive products:\n",
            "+----------+------------+-----------+-----+\n",
            "|product_id|product_name|   category|price|\n",
            "+----------+------------+-----------+-----+\n",
            "|       101|      Laptop|Electronics|55000|\n",
            "|       102|      Mobile|Electronics|25000|\n",
            "|       104|       Chair|  Furniture| 5000|\n",
            "+----------+------------+-----------+-----+\n",
            "only showing top 3 rows\n",
            "\n"
          ]
        }
      ]
    },
    {
      "cell_type": "code",
      "source": [
        "print(\"Average age of customers per city:\")\n",
        "customers_df.groupBy(\"city\").agg(avg(\"age\").alias(\"avg_age\")).show()"
      ],
      "metadata": {
        "colab": {
          "base_uri": "https://localhost:8080/"
        },
        "id": "g7w6UVYHynHg",
        "outputId": "001ba167-9137-4b6b-e509-ebabaa16e050"
      },
      "execution_count": 5,
      "outputs": [
        {
          "output_type": "stream",
          "name": "stdout",
          "text": [
            "Average age of customers per city:\n",
            "+---------+-------+\n",
            "|     city|avg_age|\n",
            "+---------+-------+\n",
            "|Bangalore|   28.0|\n",
            "|    Delhi|   30.5|\n",
            "|Hyderabad|   25.0|\n",
            "|  Chennai|   35.0|\n",
            "|   Mumbai|   30.0|\n",
            "+---------+-------+\n",
            "\n"
          ]
        }
      ]
    },
    {
      "cell_type": "code",
      "source": [
        "# Join orders with products to get price information\n",
        "revenue_df = orders_df.join(products_df, \"product_id\")\n",
        "\n",
        "# Calculate revenue and aggregate\n",
        "product_revenue = revenue_df.withColumn(\"revenue\", col(\"quantity\") * col(\"price\")) \\\n",
        "    .groupBy(\"product_name\") \\\n",
        "    .agg(_sum(\"revenue\").alias(\"total_revenue\")) \\\n",
        "    .orderBy(desc(\"total_revenue\"))\n",
        "\n",
        "print(\"Total revenue per product:\")\n",
        "product_revenue.show()"
      ],
      "metadata": {
        "colab": {
          "base_uri": "https://localhost:8080/"
        },
        "id": "uuKpL9yJysMp",
        "outputId": "15e90fda-56a3-4c5a-f488-8c76171212b7"
      },
      "execution_count": 6,
      "outputs": [
        {
          "output_type": "stream",
          "name": "stdout",
          "text": [
            "Total revenue per product:\n",
            "+------------+-------------+\n",
            "|product_name|total_revenue|\n",
            "+------------+-------------+\n",
            "|      Laptop|       110000|\n",
            "|      Mobile|        50000|\n",
            "|  Headphones|         9000|\n",
            "|       Chair|         5000|\n",
            "|       Shoes|         5000|\n",
            "|        Book|         3500|\n",
            "+------------+-------------+\n",
            "\n"
          ]
        }
      ]
    },
    {
      "cell_type": "code",
      "source": [
        "# Group by product_id and sum quantities\n",
        "most_popular_product = orders_df.groupBy(\"product_id\") \\\n",
        "    .agg(_sum(\"quantity\").alias(\"total_quantity_sold\")) \\\n",
        "    .orderBy(desc(\"total_quantity_sold\")) \\\n",
        "    .limit(1)\n",
        "\n",
        "# Join with products_df to get the product name\n",
        "most_popular_product_details = most_popular_product.join(products_df, \"product_id\")\n",
        "\n",
        "print(\"Most popular product by quantity sold:\")\n",
        "most_popular_product_details.show()"
      ],
      "metadata": {
        "colab": {
          "base_uri": "https://localhost:8080/"
        },
        "id": "YfxvuUEKyw_S",
        "outputId": "07a3d553-90b9-4223-becf-f6286ecadf78"
      },
      "execution_count": 7,
      "outputs": [
        {
          "output_type": "stream",
          "name": "stdout",
          "text": [
            "Most popular product by quantity sold:\n",
            "+----------+-------------------+------------+----------+-----+\n",
            "|product_id|total_quantity_sold|product_name|  category|price|\n",
            "+----------+-------------------+------------+----------+-----+\n",
            "|       105|                  5|        Book|Stationery|  700|\n",
            "+----------+-------------------+------------+----------+-----+\n",
            "\n"
          ]
        }
      ]
    },
    {
      "cell_type": "code",
      "source": [
        "print(\"Customer purchases:\")\n",
        "customers_df.join(orders_df, \"customer_id\", \"inner\").show()\n",
        "\n",
        "print(\"Order details with product information:\")\n",
        "orders_df.join(products_df, \"product_id\", \"inner\").show()\n",
        "\n",
        "print(\"Customers who never placed an order:\")\n",
        "customers_df.join(orders_df, \"customer_id\", \"left_anti\").show()\n"
      ],
      "metadata": {
        "colab": {
          "base_uri": "https://localhost:8080/"
        },
        "id": "j5CT353m9BSz",
        "outputId": "21f9b1a8-f6a2-4fac-ba04-7d3af4d809a3"
      },
      "execution_count": 8,
      "outputs": [
        {
          "output_type": "stream",
          "name": "stdout",
          "text": [
            "Customer purchases:\n",
            "+-----------+------------+---------+---+--------+----------+--------+----------+\n",
            "|customer_id|        name|     city|age|order_id|product_id|quantity|order_date|\n",
            "+-----------+------------+---------+---+--------+----------+--------+----------+\n",
            "|          1|Rahul Sharma|Bangalore| 28|    1001|       101|       1|2024-01-10|\n",
            "|          1|Rahul Sharma|Bangalore| 28|    1003|       103|       3|2024-02-05|\n",
            "|          2| Priya Singh|    Delhi| 32|    1002|       102|       2|2024-01-12|\n",
            "|          3|  Aman Kumar|Hyderabad| 25|    1004|       104|       1|2024-02-08|\n",
            "|          5| Arjun Mehta|   Mumbai| 30|    1005|       105|       5|2024-03-01|\n",
            "|          6|  Divya Nair|    Delhi| 29|    1006|       106|       2|2024-03-15|\n",
            "+-----------+------------+---------+---+--------+----------+--------+----------+\n",
            "\n",
            "Order details with product information:\n",
            "+----------+--------+-----------+--------+----------+------------+-----------+-----+\n",
            "|product_id|order_id|customer_id|quantity|order_date|product_name|   category|price|\n",
            "+----------+--------+-----------+--------+----------+------------+-----------+-----+\n",
            "|       101|    1001|          1|       1|2024-01-10|      Laptop|Electronics|55000|\n",
            "|       101|    1007|          7|       1|2024-03-20|      Laptop|Electronics|55000|\n",
            "|       102|    1002|          2|       2|2024-01-12|      Mobile|Electronics|25000|\n",
            "|       103|    1003|          1|       3|2024-02-05|  Headphones|Electronics| 3000|\n",
            "|       104|    1004|          3|       1|2024-02-08|       Chair|  Furniture| 5000|\n",
            "|       105|    1005|          5|       5|2024-03-01|        Book| Stationery|  700|\n",
            "|       106|    1006|          6|       2|2024-03-15|       Shoes|    Fashion| 2500|\n",
            "+----------+--------+-----------+--------+----------+------------+-----------+-----+\n",
            "\n",
            "Customers who never placed an order:\n",
            "+-----------+-----------+-------+---+\n",
            "|customer_id|       name|   city|age|\n",
            "+-----------+-----------+-------+---+\n",
            "|          4|Sneha Reddy|Chennai| 35|\n",
            "+-----------+-----------+-------+---+\n",
            "\n"
          ]
        }
      ]
    },
    {
      "cell_type": "code",
      "source": [
        "print(\"Products that were never ordered:\")\n",
        "products_df.join(orders_df, \"product_id\", \"left_anti\").show()"
      ],
      "metadata": {
        "colab": {
          "base_uri": "https://localhost:8080/"
        },
        "id": "Zq7gq1VS9TYA",
        "outputId": "52a59c4e-631e-408b-9d4d-744c5ee4aafd"
      },
      "execution_count": 9,
      "outputs": [
        {
          "output_type": "stream",
          "name": "stdout",
          "text": [
            "Products that were never ordered:\n",
            "+----------+------------+--------+-----+\n",
            "|product_id|product_name|category|price|\n",
            "+----------+------------+--------+-----+\n",
            "+----------+------------+--------+-----+\n",
            "\n"
          ]
        }
      ]
    },
    {
      "cell_type": "code",
      "source": [
        "customers_df.createOrReplaceTempView(\"customers\")\n",
        "products_df.createOrReplaceTempView(\"products\")\n",
        "orders_df.createOrReplaceTempView(\"orders\")\n",
        "\n",
        "print(\"Temporary views 'customers', 'products', and 'orders' created.\")"
      ],
      "metadata": {
        "colab": {
          "base_uri": "https://localhost:8080/"
        },
        "id": "9tP39wGn9VKo",
        "outputId": "66becc16-68df-4e34-f62a-06b8aa3079a4"
      },
      "execution_count": 10,
      "outputs": [
        {
          "output_type": "stream",
          "name": "stdout",
          "text": [
            "Temporary views 'customers', 'products', and 'orders' created.\n"
          ]
        }
      ]
    },
    {
      "cell_type": "code",
      "source": [
        "print(\"Top 2 cities by total revenue:\")\n",
        "spark.sql(\"\"\"\n",
        "    SELECT c.city, SUM(o.quantity * p.price) as total_revenue\n",
        "    FROM orders o\n",
        "    JOIN customers c ON o.customer_id = c.customer_id\n",
        "    JOIN products p ON o.product_id = p.product_id\n",
        "    GROUP BY c.city\n",
        "    ORDER BY total_revenue DESC\n",
        "    LIMIT 2\n",
        "\"\"\").show()"
      ],
      "metadata": {
        "colab": {
          "base_uri": "https://localhost:8080/"
        },
        "id": "TQV-7zkY9X5Z",
        "outputId": "69b8f880-73c3-4b32-c567-202695c1da06"
      },
      "execution_count": 11,
      "outputs": [
        {
          "output_type": "stream",
          "name": "stdout",
          "text": [
            "Top 2 cities by total revenue:\n",
            "+---------+-------------+\n",
            "|     city|total_revenue|\n",
            "+---------+-------------+\n",
            "|Bangalore|        64000|\n",
            "|    Delhi|        55000|\n",
            "+---------+-------------+\n",
            "\n"
          ]
        }
      ]
    },
    {
      "cell_type": "code",
      "source": [
        "print(\"Customers who spent more than 50,000:\")\n",
        "spark.sql(\"\"\"\n",
        "    SELECT c.name, SUM(o.quantity * p.price) as total_spent\n",
        "    FROM orders o\n",
        "    JOIN customers c ON o.customer_id = c.customer_id\n",
        "    JOIN products p ON o.product_id = p.product_id\n",
        "    GROUP BY c.name\n",
        "    HAVING total_spent > 50000\n",
        "\"\"\").show()"
      ],
      "metadata": {
        "colab": {
          "base_uri": "https://localhost:8080/"
        },
        "id": "jrr8P_5u9bJ3",
        "outputId": "c73204ff-eced-49be-a082-a2687024a3cd"
      },
      "execution_count": 12,
      "outputs": [
        {
          "output_type": "stream",
          "name": "stdout",
          "text": [
            "Customers who spent more than 50,000:\n",
            "+------------+-----------+\n",
            "|        name|total_spent|\n",
            "+------------+-----------+\n",
            "|Rahul Sharma|      64000|\n",
            "+------------+-----------+\n",
            "\n"
          ]
        }
      ]
    },
    {
      "cell_type": "code",
      "source": [
        "print(\"Best-selling product category by revenue:\")\n",
        "spark.sql(\"\"\"\n",
        "    SELECT p.category, SUM(o.quantity * p.price) as total_revenue\n",
        "    FROM orders o\n",
        "    JOIN products p ON o.product_id = p.product_id\n",
        "    GROUP BY p.category\n",
        "    ORDER BY total_revenue DESC\n",
        "    LIMIT 1\n",
        "\"\"\").show()"
      ],
      "metadata": {
        "colab": {
          "base_uri": "https://localhost:8080/"
        },
        "id": "x6GDJ0fV9fTW",
        "outputId": "21002b3c-4505-4fb0-f329-1b906d308b6c"
      },
      "execution_count": 13,
      "outputs": [
        {
          "output_type": "stream",
          "name": "stdout",
          "text": [
            "Best-selling product category by revenue:\n",
            "+-----------+-------------+\n",
            "|   category|total_revenue|\n",
            "+-----------+-------------+\n",
            "|Electronics|       169000|\n",
            "+-----------+-------------+\n",
            "\n"
          ]
        }
      ]
    },
    {
      "cell_type": "code",
      "source": [
        "# Save to CSV\n",
        "orders_df.write.mode(\"overwrite\").option(\"header\", \"true\").csv(\"orders_output.csv\")\n",
        "print(\"orders_df saved to CSV.\")\n",
        "\n",
        "# Load from CSV\n",
        "loaded_orders_df = spark.read.option(\"header\", \"true\").csv(\"orders_output.csv\")\n",
        "print(\"Loaded orders_df from CSV:\")\n",
        "loaded_orders_df.show()"
      ],
      "metadata": {
        "colab": {
          "base_uri": "https://localhost:8080/"
        },
        "id": "aufPZCMm9jKu",
        "outputId": "f65b85d6-153a-49d8-b162-32066fba70b2"
      },
      "execution_count": 14,
      "outputs": [
        {
          "output_type": "stream",
          "name": "stdout",
          "text": [
            "orders_df saved to CSV.\n",
            "Loaded orders_df from CSV:\n",
            "+--------+-----------+----------+--------+----------+\n",
            "|order_id|customer_id|product_id|quantity|order_date|\n",
            "+--------+-----------+----------+--------+----------+\n",
            "|    1004|          3|       104|       1|2024-02-08|\n",
            "|    1005|          5|       105|       5|2024-03-01|\n",
            "|    1006|          6|       106|       2|2024-03-15|\n",
            "|    1007|          7|       101|       1|2024-03-20|\n",
            "|    1001|          1|       101|       1|2024-01-10|\n",
            "|    1002|          2|       102|       2|2024-01-12|\n",
            "|    1003|          1|       103|       3|2024-02-05|\n",
            "+--------+-----------+----------+--------+----------+\n",
            "\n"
          ]
        }
      ]
    },
    {
      "cell_type": "code",
      "source": [
        "# Save to JSON\n",
        "products_df.write.mode(\"overwrite\").json(\"products_output.json\")\n",
        "print(\"products_df saved to JSON.\")\n",
        "\n",
        "# Load from JSON\n",
        "loaded_products_df = spark.read.json(\"products_output.json\")\n",
        "print(\"Loaded products_df from JSON:\")\n",
        "loaded_products_df.show()"
      ],
      "metadata": {
        "colab": {
          "base_uri": "https://localhost:8080/"
        },
        "id": "3c0_C3h39mCv",
        "outputId": "77ee71a3-3026-45a6-c37e-f7ef98bdaf64"
      },
      "execution_count": 15,
      "outputs": [
        {
          "output_type": "stream",
          "name": "stdout",
          "text": [
            "products_df saved to JSON.\n",
            "Loaded products_df from JSON:\n",
            "+-----------+-----+----------+------------+\n",
            "|   category|price|product_id|product_name|\n",
            "+-----------+-----+----------+------------+\n",
            "|Electronics|55000|       101|      Laptop|\n",
            "|Electronics|25000|       102|      Mobile|\n",
            "|Electronics| 3000|       103|  Headphones|\n",
            "|  Furniture| 5000|       104|       Chair|\n",
            "| Stationery|  700|       105|        Book|\n",
            "|    Fashion| 2500|       106|       Shoes|\n",
            "+-----------+-----+----------+------------+\n",
            "\n"
          ]
        }
      ]
    },
    {
      "cell_type": "code",
      "source": [
        "print(\"Converting customers_df to a Pandas DataFrame:\")\n",
        "customers_pandas_df = customers_df.toPandas()\n",
        "print(customers_pandas_df)\n",
        "print(f\"\\nType of new DataFrame: {type(customers_pandas_df)}\")"
      ],
      "metadata": {
        "colab": {
          "base_uri": "https://localhost:8080/"
        },
        "id": "5HAzQjXs9p5M",
        "outputId": "60b48c2f-787e-4712-af26-e6943713c645"
      },
      "execution_count": 16,
      "outputs": [
        {
          "output_type": "stream",
          "name": "stdout",
          "text": [
            "Converting customers_df to a Pandas DataFrame:\n",
            "   customer_id          name       city  age\n",
            "0            1  Rahul Sharma  Bangalore   28\n",
            "1            2   Priya Singh      Delhi   32\n",
            "2            3    Aman Kumar  Hyderabad   25\n",
            "3            4   Sneha Reddy    Chennai   35\n",
            "4            5   Arjun Mehta     Mumbai   30\n",
            "5            6    Divya Nair      Delhi   29\n",
            "\n",
            "Type of new DataFrame: <class 'pandas.core.frame.DataFrame'>\n"
          ]
        }
      ]
    },
    {
      "cell_type": "code",
      "source": [
        "category_revenue_df = spark.sql(\"\"\"\n",
        "    SELECT p.category, SUM(o.quantity * p.price) as total_revenue\n",
        "    FROM orders o\n",
        "    JOIN products p ON o.product_id = p.product_id\n",
        "    GROUP BY p.category\n",
        "    ORDER BY total_revenue DESC\n",
        "\"\"\")\n",
        "\n",
        "category_revenue_pd = category_revenue_df.toPandas()\n",
        "\n",
        "# Plotting\n",
        "plt.figure(figsize=(10, 6))\n",
        "sns.barplot(x=\"category\", y=\"total_revenue\", data=category_revenue_pd)\n",
        "plt.title(\"Total Revenue by Product Category\")\n",
        "plt.xlabel(\"Category\")\n",
        "plt.ylabel(\"Total Revenue (in INR)\")\n",
        "plt.show()"
      ],
      "metadata": {
        "colab": {
          "base_uri": "https://localhost:8080/",
          "height": 564
        },
        "id": "grDTDR8G-b6K",
        "outputId": "be58aab4-fabb-4335-8d4a-0e8fd31ac22d"
      },
      "execution_count": 17,
      "outputs": [
        {
          "output_type": "display_data",
          "data": {
            "text/plain": [
              "<Figure size 1000x600 with 1 Axes>"
            ],
            "image/png": "[encoded data removed]"
          },
          "metadata": {}
        }
      ]
    },
    {
      "cell_type": "code",
      "source": [
        "orders_per_month_df = orders_df.withColumn(\"order_month\", month(col(\"order_date\"))) \\\n",
        "    .groupBy(\"order_month\") \\\n",
        "    .agg(count(\"order_id\").alias(\"num_orders\")) \\\n",
        "    .orderBy(\"order_month\")\n",
        "\n",
        "orders_per_month_pd = orders_per_month_df.toPandas()\n",
        "\n",
        "plt.figure(figsize=(10, 6))\n",
        "sns.lineplot(x=\"order_month\", y=\"num_orders\", data=orders_per_month_pd, marker='o')\n",
        "plt.title(\"Number of Orders per Month\")\n",
        "plt.xlabel(\"Month\")\n",
        "plt.ylabel(\"Number of Orders\")\n",
        "plt.xticks(ticks=orders_per_month_pd['order_month'].unique())\n",
        "plt.grid(True)\n",
        "plt.show()"
      ],
      "metadata": {
        "colab": {
          "base_uri": "https://localhost:8080/",
          "height": 564
        },
        "id": "2eCkntIG-lXA",
        "outputId": "7fc12178-9c54-464c-81c9-1a581ce50f9a"
      },
      "execution_count": 18,
      "outputs": [
        {
          "output_type": "display_data",
          "data": {
            "text/plain": [
              "<Figure size 1000x600 with 1 Axes>"
            ],
            "image/png": "[encoded data removed]"
          },
          "metadata": {}
        }
      ]
    },
    {
      "cell_type": "code",
      "source": [
        "revenue_vs_quantity_df = revenue_df.withColumn(\"revenue\", col(\"quantity\") * col(\"price\")) \\\n",
        "                                   .select(\"quantity\", \"revenue\")\n",
        "\n",
        "revenue_vs_quantity_pd = revenue_vs_quantity_df.toPandas()\n",
        "\n",
        "plt.figure(figsize=(10, 6))\n",
        "sns.scatterplot(x=\"quantity\", y=\"revenue\", data=revenue_vs_quantity_pd)\n",
        "plt.title(\"Revenue vs. Quantity per Order Item\")\n",
        "plt.xlabel(\"Quantity\")\n",
        "plt.ylabel(\"Revenue (in INR)\")\n",
        "plt.grid(True)\n",
        "plt.show()"
      ],
      "metadata": {
        "colab": {
          "base_uri": "https://localhost:8080/",
          "height": 564
        },
        "id": "jQROhAJ2-sKQ",
        "outputId": "b49397a4-4ccd-4913-fb82-6fd3137799ea"
      },
      "execution_count": 19,
      "outputs": [
        {
          "output_type": "display_data",
          "data": {
            "text/plain": [
              "<Figure size 1000x600 with 1 Axes>"
            ],
            "image/png": "[encoded data removed]"
          },
          "metadata": {}
        }
      ]
    },
    {
      "cell_type": "code",
      "source": [],
      "metadata": {
        "id": "fw3g0Mhk-xrw"
      },
      "execution_count": null,
      "outputs": []
    }
  ]
}