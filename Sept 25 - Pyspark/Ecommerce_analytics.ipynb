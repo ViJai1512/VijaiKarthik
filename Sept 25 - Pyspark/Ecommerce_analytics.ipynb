{
  "nbformat": 4,
  "nbformat_minor": 0,
  "metadata": {
    "colab": {
      "provenance": []
    },
    "kernelspec": {
      "name": "python3",
      "display_name": "Python 3"
    },
    "language_info": {
      "name": "python"
    }
  },
  "cells": [
    {
      "cell_type": "code",
      "execution_count": 1,
      "metadata": {
        "id": "thXdmTu8LnlT"
      },
      "outputs": [],
      "source": [
        "from pyspark.sql import SparkSession\n",
        "from pyspark.sql.functions import col, avg, count, sum, desc\n",
        "\n",
        "spark = SparkSession.builder.appName(\"ECommerce-Capstone\").getOrCreate()\n",
        "\n",
        "# Customers\n",
        "customers_data = [\n",
        "    (1, \"Rahul Sharma\", \"Bangalore\", 28),\n",
        "    (2, \"Priya Singh\", \"Delhi\", 32),\n",
        "    (3, \"Aman Kumar\", \"Hyderabad\", 25),\n",
        "    (4, \"Sneha Reddy\", \"Chennai\", 35),\n",
        "    (5, \"Arjun Mehta\", \"Mumbai\", 30),\n",
        "    (6, \"Divya Nair\", \"Delhi\", 29)\n",
        "]\n",
        "customers_cols = [\"customer_id\", \"name\", \"city\", \"age\"]\n",
        "customers_df = spark.createDataFrame(customers_data, customers_cols)\n",
        "\n",
        "# Products\n",
        "products_data = [\n",
        "    (101, \"Laptop\", \"Electronics\", 55000),\n",
        "    (102, \"Mobile\", \"Electronics\", 25000),\n",
        "    (103, \"Headphones\", \"Electronics\", 3000),\n",
        "    (104, \"Chair\", \"Furniture\", 5000),\n",
        "    (105, \"Book\", \"Stationery\", 700),\n",
        "    (106, \"Shoes\", \"Fashion\", 2500)\n",
        "]\n",
        "products_cols = [\"product_id\", \"product_name\", \"category\", \"price\"]\n",
        "products_df = spark.createDataFrame(products_data, products_cols)\n",
        "\n",
        "# Orders\n",
        "orders_data = [\n",
        "    (1001, 1, 101, 1),\n",
        "    (1002, 2, 102, 2),\n",
        "    (1003, 1, 103, 3),\n",
        "    (1004, 3, 104, 1),\n",
        "    (1005, 5, 105, 5),\n",
        "    (1006, 6, 106, 2),\n",
        "    (1007, 7, 101, 1)  # invalid customer\n",
        "]\n",
        "orders_cols = [\"order_id\", \"customer_id\", \"product_id\", \"quantity\"]\n",
        "orders_df = spark.createDataFrame(orders_data, orders_cols)\n"
      ]
    },
    {
      "cell_type": "code",
      "source": [
        "# 1. Select all customer names and their cities\n",
        "customers_df.select(\"name\", \"city\").show()\n",
        "\n",
        "# 2. List all distinct product categories\n",
        "products_df.select(\"category\").distinct().show()\n",
        "\n",
        "# 3. Filter customers older than 30\n",
        "customers_df.filter(col(\"age\") > 30).show()\n"
      ],
      "metadata": {
        "colab": {
          "base_uri": "https://localhost:8080/"
        },
        "id": "nkrczf67bT8O",
        "outputId": "0468e388-3a44-46f6-95d9-b5ae84958d94"
      },
      "execution_count": 2,
      "outputs": [
        {
          "output_type": "stream",
          "name": "stdout",
          "text": [
            "+------------+---------+\n",
            "|        name|     city|\n",
            "+------------+---------+\n",
            "|Rahul Sharma|Bangalore|\n",
            "| Priya Singh|    Delhi|\n",
            "|  Aman Kumar|Hyderabad|\n",
            "| Sneha Reddy|  Chennai|\n",
            "| Arjun Mehta|   Mumbai|\n",
            "|  Divya Nair|    Delhi|\n",
            "+------------+---------+\n",
            "\n",
            "+-----------+\n",
            "|   category|\n",
            "+-----------+\n",
            "|Electronics|\n",
            "| Stationery|\n",
            "|    Fashion|\n",
            "|  Furniture|\n",
            "+-----------+\n",
            "\n",
            "+-----------+-----------+-------+---+\n",
            "|customer_id|       name|   city|age|\n",
            "+-----------+-----------+-------+---+\n",
            "|          2|Priya Singh|  Delhi| 32|\n",
            "|          4|Sneha Reddy|Chennai| 35|\n",
            "+-----------+-----------+-------+---+\n",
            "\n"
          ]
        }
      ]
    },
    {
      "cell_type": "code",
      "source": [
        "# 4. Total number of orders placed per customer\n",
        "orders_df.groupBy(\"customer_id\").agg(count(\"*\").alias(\"total_orders\")).show()\n",
        "\n",
        "# 5. Average age of customers per city\n",
        "customers_df.groupBy(\"city\").agg(avg(\"age\").alias(\"avg_age\")).show()\n",
        "\n",
        "# 6. Total revenue generated from each product\n",
        "orders_df.join(products_df, \"product_id\") \\\n",
        "    .withColumn(\"revenue\", col(\"quantity\") * col(\"price\")) \\\n",
        "    .groupBy(\"product_name\").agg(sum(\"revenue\").alias(\"total_revenue\")).show()\n"
      ],
      "metadata": {
        "colab": {
          "base_uri": "https://localhost:8080/"
        },
        "id": "JrfRw1ozc1qJ",
        "outputId": "447a74c5-cda6-45c4-c389-a9c0d44a6ee4"
      },
      "execution_count": 3,
      "outputs": [
        {
          "output_type": "stream",
          "name": "stdout",
          "text": [
            "+-----------+------------+\n",
            "|customer_id|total_orders|\n",
            "+-----------+------------+\n",
            "|          1|           2|\n",
            "|          2|           1|\n",
            "|          7|           1|\n",
            "|          6|           1|\n",
            "|          5|           1|\n",
            "|          3|           1|\n",
            "+-----------+------------+\n",
            "\n",
            "+---------+-------+\n",
            "|     city|avg_age|\n",
            "+---------+-------+\n",
            "|Bangalore|   28.0|\n",
            "|    Delhi|   30.5|\n",
            "|Hyderabad|   25.0|\n",
            "|  Chennai|   35.0|\n",
            "|   Mumbai|   30.0|\n",
            "+---------+-------+\n",
            "\n",
            "+------------+-------------+\n",
            "|product_name|total_revenue|\n",
            "+------------+-------------+\n",
            "|       Chair|         5000|\n",
            "|        Book|         3500|\n",
            "|      Laptop|       110000|\n",
            "|       Shoes|         5000|\n",
            "|      Mobile|        50000|\n",
            "|  Headphones|         9000|\n",
            "+------------+-------------+\n",
            "\n"
          ]
        }
      ]
    },
    {
      "cell_type": "code",
      "source": [
        "# 7. Customers with their orders\n",
        "customers_df.join(orders_df, \"customer_id\", \"inner\").show()\n",
        "\n",
        "# 8. Orders with product name and price\n",
        "orders_df.join(products_df, \"product_id\", \"inner\").show()\n",
        "\n",
        "# 9. Customers who never placed an order\n",
        "customers_df.join(orders_df, \"customer_id\", \"left_anti\").show()\n",
        "\n",
        "# 10. Products never ordered\n",
        "products_df.join(orders_df, \"product_id\", \"left_anti\").show()\n"
      ],
      "metadata": {
        "colab": {
          "base_uri": "https://localhost:8080/"
        },
        "id": "I3ee3ZuJc-5q",
        "outputId": "2618d7b7-ee0c-4610-ac76-0ab734c10cb1"
      },
      "execution_count": 4,
      "outputs": [
        {
          "output_type": "stream",
          "name": "stdout",
          "text": [
            "+-----------+------------+---------+---+--------+----------+--------+\n",
            "|customer_id|        name|     city|age|order_id|product_id|quantity|\n",
            "+-----------+------------+---------+---+--------+----------+--------+\n",
            "|          1|Rahul Sharma|Bangalore| 28|    1001|       101|       1|\n",
            "|          1|Rahul Sharma|Bangalore| 28|    1003|       103|       3|\n",
            "|          2| Priya Singh|    Delhi| 32|    1002|       102|       2|\n",
            "|          3|  Aman Kumar|Hyderabad| 25|    1004|       104|       1|\n",
            "|          5| Arjun Mehta|   Mumbai| 30|    1005|       105|       5|\n",
            "|          6|  Divya Nair|    Delhi| 29|    1006|       106|       2|\n",
            "+-----------+------------+---------+---+--------+----------+--------+\n",
            "\n",
            "+----------+--------+-----------+--------+------------+-----------+-----+\n",
            "|product_id|order_id|customer_id|quantity|product_name|   category|price|\n",
            "+----------+--------+-----------+--------+------------+-----------+-----+\n",
            "|       101|    1001|          1|       1|      Laptop|Electronics|55000|\n",
            "|       101|    1007|          7|       1|      Laptop|Electronics|55000|\n",
            "|       102|    1002|          2|       2|      Mobile|Electronics|25000|\n",
            "|       103|    1003|          1|       3|  Headphones|Electronics| 3000|\n",
            "|       104|    1004|          3|       1|       Chair|  Furniture| 5000|\n",
            "|       105|    1005|          5|       5|        Book| Stationery|  700|\n",
            "|       106|    1006|          6|       2|       Shoes|    Fashion| 2500|\n",
            "+----------+--------+-----------+--------+------------+-----------+-----+\n",
            "\n",
            "+-----------+-----------+-------+---+\n",
            "|customer_id|       name|   city|age|\n",
            "+-----------+-----------+-------+---+\n",
            "|          4|Sneha Reddy|Chennai| 35|\n",
            "+-----------+-----------+-------+---+\n",
            "\n",
            "+----------+------------+--------+-----+\n",
            "|product_id|product_name|category|price|\n",
            "+----------+------------+--------+-----+\n",
            "+----------+------------+--------+-----+\n",
            "\n"
          ]
        }
      ]
    },
    {
      "cell_type": "code",
      "source": [
        "# 11. Top 3 most expensive products purchased\n",
        "orders_df.join(products_df, \"product_id\") \\\n",
        "    .orderBy(desc(\"price\")).limit(3).show()\n",
        "\n",
        "# 12. Total revenue per category\n",
        "orders_df.join(products_df, \"product_id\") \\\n",
        "    .withColumn(\"revenue\", col(\"quantity\") * col(\"price\")) \\\n",
        "    .groupBy(\"category\").agg(sum(\"revenue\").alias(\"total_revenue\")).show()\n",
        "\n",
        "# 13. Customers sorted by total money spent\n",
        "orders_df.join(products_df, \"product_id\") \\\n",
        "    .withColumn(\"spent\", col(\"quantity\") * col(\"price\")) \\\n",
        "    .groupBy(\"customer_id\").agg(sum(\"spent\").alias(\"total_spent\")) \\\n",
        "    .orderBy(desc(\"total_spent\")).show()\n"
      ],
      "metadata": {
        "colab": {
          "base_uri": "https://localhost:8080/"
        },
        "id": "IptGx5gJdIGi",
        "outputId": "163c18c5-18a8-4861-f3ee-a5fbcd10c103"
      },
      "execution_count": 5,
      "outputs": [
        {
          "output_type": "stream",
          "name": "stdout",
          "text": [
            "+----------+--------+-----------+--------+------------+-----------+-----+\n",
            "|product_id|order_id|customer_id|quantity|product_name|   category|price|\n",
            "+----------+--------+-----------+--------+------------+-----------+-----+\n",
            "|       101|    1001|          1|       1|      Laptop|Electronics|55000|\n",
            "|       101|    1007|          7|       1|      Laptop|Electronics|55000|\n",
            "|       102|    1002|          2|       2|      Mobile|Electronics|25000|\n",
            "+----------+--------+-----------+--------+------------+-----------+-----+\n",
            "\n",
            "+-----------+-------------+\n",
            "|   category|total_revenue|\n",
            "+-----------+-------------+\n",
            "| Stationery|         3500|\n",
            "|    Fashion|         5000|\n",
            "|Electronics|       169000|\n",
            "|  Furniture|         5000|\n",
            "+-----------+-------------+\n",
            "\n",
            "+-----------+-----------+\n",
            "|customer_id|total_spent|\n",
            "+-----------+-----------+\n",
            "|          1|      64000|\n",
            "|          7|      55000|\n",
            "|          2|      50000|\n",
            "|          6|       5000|\n",
            "|          3|       5000|\n",
            "|          5|       3500|\n",
            "+-----------+-----------+\n",
            "\n"
          ]
        }
      ]
    },
    {
      "cell_type": "code",
      "source": [
        "# 14. Register temp views\n",
        "customers_df.createOrReplaceTempView(\"customers\")\n",
        "products_df.createOrReplaceTempView(\"products\")\n",
        "orders_df.createOrReplaceTempView(\"orders\")\n",
        "\n",
        "# 15. Top 2 cities by total revenue\n",
        "spark.sql(\"\"\"\n",
        "SELECT c.city, SUM(o.quantity * p.price) AS total_revenue\n",
        "FROM orders o\n",
        "JOIN customers c ON o.customer_id = c.customer_id\n",
        "JOIN products p ON o.product_id = p.product_id\n",
        "GROUP BY c.city\n",
        "ORDER BY total_revenue DESC\n",
        "LIMIT 2\n",
        "\"\"\").show()\n",
        "\n",
        "# 16. Customers who spent more than 50,000\n",
        "spark.sql(\"\"\"\n",
        "SELECT c.name, SUM(o.quantity * p.price) AS total_spent\n",
        "FROM orders o\n",
        "JOIN customers c ON o.customer_id = c.customer_id\n",
        "JOIN products p ON o.product_id = p.product_id\n",
        "GROUP BY c.name\n",
        "HAVING total_spent > 50000\n",
        "\"\"\").show()\n",
        "\n",
        "# 17. Category contributing the most revenue\n",
        "spark.sql(\"\"\"\n",
        "SELECT p.category, SUM(o.quantity * p.price) AS total_revenue\n",
        "FROM orders o\n",
        "JOIN products p ON o.product_id = p.product_id\n",
        "GROUP BY p.category\n",
        "ORDER BY total_revenue DESC\n",
        "LIMIT 1\n",
        "\"\"\").show()\n"
      ],
      "metadata": {
        "colab": {
          "base_uri": "https://localhost:8080/"
        },
        "id": "fV2RSIObdMVV",
        "outputId": "3bbeb096-7a1e-4215-9523-def3578a364a"
      },
      "execution_count": 6,
      "outputs": [
        {
          "output_type": "stream",
          "name": "stdout",
          "text": [
            "+---------+-------------+\n",
            "|     city|total_revenue|\n",
            "+---------+-------------+\n",
            "|Bangalore|        64000|\n",
            "|    Delhi|        55000|\n",
            "+---------+-------------+\n",
            "\n",
            "+------------+-----------+\n",
            "|        name|total_spent|\n",
            "+------------+-----------+\n",
            "|Rahul Sharma|      64000|\n",
            "+------------+-----------+\n",
            "\n",
            "+-----------+-------------+\n",
            "|   category|total_revenue|\n",
            "+-----------+-------------+\n",
            "|Electronics|       169000|\n",
            "+-----------+-------------+\n",
            "\n"
          ]
        }
      ]
    }
  ]
}