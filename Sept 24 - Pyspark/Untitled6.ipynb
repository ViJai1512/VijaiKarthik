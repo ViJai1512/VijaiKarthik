{
  "nbformat": 4,
  "nbformat_minor": 0,
  "metadata": {
    "colab": {
      "provenance": []
    },
    "kernelspec": {
      "name": "python3",
      "display_name": "Python 3"
    },
    "language_info": {
      "name": "python"
    }
  },
  "cells": [
    {
      "cell_type": "code",
      "execution_count": 2,
      "metadata": {
        "id": "ABkuvoK_P1D-"
      },
      "outputs": [],
      "source": [
        "from pyspark.sql import SparkSession\n",
        "\n",
        "spark = SparkSession.builder.appName(\"PySpark-JSON-CSV-Example\").getOrCreate()\n"
      ]
    },
    {
      "cell_type": "code",
      "source": [
        "employees_df = spark.read.csv(\"employees.csv\", header=True, inferSchema=True)\n",
        "employees_df.show()\n"
      ],
      "metadata": {
        "colab": {
          "base_uri": "https://localhost:8080/"
        },
        "id": "inXOdZF2QtYo",
        "outputId": "1c850ebb-96a4-48f2-d0aa-3bd5c062851c"
      },
      "execution_count": 3,
      "outputs": [
        {
          "output_type": "stream",
          "name": "stdout",
          "text": [
            "+---+------------+----------+------+\n",
            "| id|        name|department|salary|\n",
            "+---+------------+----------+------+\n",
            "|  1|Rahul Sharma|        IT| 55000|\n",
            "|  2| Priya Singh|        HR| 60000|\n",
            "|  3|  Aman Kumar|   Finance| 48000|\n",
            "|  4| Sneha Reddy| Marketing| 52000|\n",
            "|  5| Arjun Mehta|        IT| 75000|\n",
            "+---+------------+----------+------+\n",
            "\n"
          ]
        }
      ]
    },
    {
      "cell_type": "code",
      "source": [
        "departments_df = spark.read.json(\"departments.json\")\n",
        "departments_df.show()"
      ],
      "metadata": {
        "colab": {
          "base_uri": "https://localhost:8080/"
        },
        "id": "Gq0GrpcLQ1F5",
        "outputId": "4eed0f7a-9357-4e79-be1f-d95942bf7554"
      },
      "execution_count": 4,
      "outputs": [
        {
          "output_type": "stream",
          "name": "stdout",
          "text": [
            "+---------------+-------+-------+\n",
            "|_corrupt_record|   dept|manager|\n",
            "+---------------+-------+-------+\n",
            "|              [|   NULL|   NULL|\n",
            "|           NULL|     IT|  Karan|\n",
            "|           NULL|     HR|  Divya|\n",
            "|           NULL|Finance| Suresh|\n",
            "|              ]|   NULL|   NULL|\n",
            "+---------------+-------+-------+\n",
            "\n"
          ]
        }
      ]
    },
    {
      "cell_type": "code",
      "source": [
        "employees_df.filter(employees_df.salary > 68000).show()\n",
        "\n"
      ],
      "metadata": {
        "colab": {
          "base_uri": "https://localhost:8080/"
        },
        "id": "A52bzUeCRlVa",
        "outputId": "0b788bf0-37b5-4dcc-d665-f621d5899bce"
      },
      "execution_count": 6,
      "outputs": [
        {
          "output_type": "stream",
          "name": "stdout",
          "text": [
            "+---+-----------+----------+------+\n",
            "| id|       name|department|salary|\n",
            "+---+-----------+----------+------+\n",
            "|  5|Arjun Mehta|        IT| 75000|\n",
            "+---+-----------+----------+------+\n",
            "\n"
          ]
        }
      ]
    },
    {
      "cell_type": "code",
      "source": [
        "employees_df.groupBy(\"department\").avg(\"salary\").show()\n"
      ],
      "metadata": {
        "colab": {
          "base_uri": "https://localhost:8080/"
        },
        "id": "vjIXXiK6R8NM",
        "outputId": "d286bcc2-e071-4a5c-eeba-4f4bd885a573"
      },
      "execution_count": 8,
      "outputs": [
        {
          "output_type": "stream",
          "name": "stdout",
          "text": [
            "+----------+-----------+\n",
            "|department|avg(salary)|\n",
            "+----------+-----------+\n",
            "|        HR|    60000.0|\n",
            "|   Finance|    48000.0|\n",
            "| Marketing|    52000.0|\n",
            "|        IT|    65000.0|\n",
            "+----------+-----------+\n",
            "\n"
          ]
        }
      ]
    },
    {
      "cell_type": "code",
      "source": [
        "from pyspark.sql import functions as F\n",
        "\n",
        "employees_df.agg(\n",
        "    F.max(\"salary\").alias(\"MaxSalary\"),\n",
        "    F.min(\"salary\").alias(\"MinSalary\")\n",
        ").show()\n"
      ],
      "metadata": {
        "colab": {
          "base_uri": "https://localhost:8080/"
        },
        "id": "XgZVBk4AS4QJ",
        "outputId": "d08c1bc2-adc5-48bc-ae3c-cb7aed5d6bd2"
      },
      "execution_count": 9,
      "outputs": [
        {
          "output_type": "stream",
          "name": "stdout",
          "text": [
            "+---------+---------+\n",
            "|MaxSalary|MinSalary|\n",
            "+---------+---------+\n",
            "|    75000|    48000|\n",
            "+---------+---------+\n",
            "\n"
          ]
        }
      ]
    },
    {
      "cell_type": "code",
      "source": [
        "emp_dept_df = employees_df.join(departments_df, employees_df.department == departments_df.dept, \"inner\")\n",
        "emp_dept_df.show()"
      ],
      "metadata": {
        "colab": {
          "base_uri": "https://localhost:8080/"
        },
        "id": "4dpKTEhvS6vw",
        "outputId": "3e393f14-fd98-41b0-8e05-4a3f120351e6"
      },
      "execution_count": 12,
      "outputs": [
        {
          "output_type": "stream",
          "name": "stdout",
          "text": [
            "+---+------------+----------+------+---------------+-------+-------+\n",
            "| id|        name|department|salary|_corrupt_record|   dept|manager|\n",
            "+---+------------+----------+------+---------------+-------+-------+\n",
            "|  1|Rahul Sharma|        IT| 55000|           NULL|     IT|  Karan|\n",
            "|  2| Priya Singh|        HR| 60000|           NULL|     HR|  Divya|\n",
            "|  3|  Aman Kumar|   Finance| 48000|           NULL|Finance| Suresh|\n",
            "|  5| Arjun Mehta|        IT| 75000|           NULL|     IT|  Karan|\n",
            "+---+------------+----------+------+---------------+-------+-------+\n",
            "\n"
          ]
        }
      ]
    },
    {
      "cell_type": "code",
      "source": [
        "# Register as temp views\n",
        "employees_df.createOrReplaceTempView(\"employees\")\n",
        "departments_df.createOrReplaceTempView(\"departments\")\n",
        "\n",
        "spark.sql(\"SELECT name, department, salary FROM employees WHERE salary > 48000\").show()\n",
        "\n",
        "spark.sql(\"\"\"\n",
        "    SELECT department, AVG(salary) as avg_salary\n",
        "    FROM employees\n",
        "    GROUP BY department\n",
        "\"\"\").show()"
      ],
      "metadata": {
        "colab": {
          "base_uri": "https://localhost:8080/"
        },
        "id": "6YYt8VbITYX1",
        "outputId": "6e5445c3-9752-46e6-f515-b78dc37257e8"
      },
      "execution_count": 16,
      "outputs": [
        {
          "output_type": "stream",
          "name": "stdout",
          "text": [
            "+------------+----------+------+\n",
            "|        name|department|salary|\n",
            "+------------+----------+------+\n",
            "|Rahul Sharma|        IT| 55000|\n",
            "| Priya Singh|        HR| 60000|\n",
            "| Sneha Reddy| Marketing| 52000|\n",
            "| Arjun Mehta|        IT| 75000|\n",
            "+------------+----------+------+\n",
            "\n",
            "+----------+----------+\n",
            "|department|avg_salary|\n",
            "+----------+----------+\n",
            "|        HR|   60000.0|\n",
            "|   Finance|   48000.0|\n",
            "| Marketing|   52000.0|\n",
            "|        IT|   65000.0|\n",
            "+----------+----------+\n",
            "\n"
          ]
        }
      ]
    }
  ]
}