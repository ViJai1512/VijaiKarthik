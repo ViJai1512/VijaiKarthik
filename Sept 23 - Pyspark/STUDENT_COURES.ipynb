{
  "nbformat": 4,
  "nbformat_minor": 0,
  "metadata": {
    "colab": {
      "provenance": []
    },
    "kernelspec": {
      "name": "python3",
      "display_name": "Python 3"
    },
    "language_info": {
      "name": "python"
    }
  },
  "cells": [
    {
      "cell_type": "code",
      "execution_count": 2,
      "metadata": {
        "colab": {
          "base_uri": "https://localhost:8080/"
        },
        "id": "XDT2a9NmE3UV",
        "outputId": "8acbcb00-ca99-46fc-ed9d-003b5275cbcc"
      },
      "outputs": [
        {
          "output_type": "stream",
          "name": "stdout",
          "text": [
            "+----------+------------+---+---------+\n",
            "|student_id|        name|age|     city|\n",
            "+----------+------------+---+---------+\n",
            "|         1|Rahul Sharma| 20|Bangalore|\n",
            "|         2| Priya Singh| 21|    Delhi|\n",
            "|         3|  Aman Kumar| 19|Hyderabad|\n",
            "|         4| Sneha Reddy| 22|  Chennai|\n",
            "|         5| Arjun Mehta| 23|   Mumbai|\n",
            "|         6|  Divya Nair| 20|     NULL|\n",
            "+----------+------------+---+---------+\n",
            "\n",
            "+---------+----------------+-----------+\n",
            "|course_id|     course_name|   category|\n",
            "+---------+----------------+-----------+\n",
            "|      101|          Python|Programming|\n",
            "|      102|    Data Science|  Analytics|\n",
            "|      103|       Databases| Technology|\n",
            "|      104|Business Studies| Management|\n",
            "+---------+----------------+-----------+\n",
            "\n",
            "+----------+---------+-----+\n",
            "|student_id|course_id|grade|\n",
            "+----------+---------+-----+\n",
            "|         1|      101|    A|\n",
            "|         2|      101|    B|\n",
            "|         3|      102|    A|\n",
            "|         4|      103|    C|\n",
            "|         5|      102|    B|\n",
            "|         7|      104|    A|\n",
            "+----------+---------+-----+\n",
            "\n"
          ]
        }
      ],
      "source": [
        "from pyspark.sql import SparkSession\n",
        "\n",
        "spark = SparkSession.builder.appName('Student-and-courses').getOrCreate()\n",
        "\n",
        "# Student data\n",
        "students_data = [\n",
        "    (1, \"Rahul Sharma\", 20, \"Bangalore\"),\n",
        "    (2, \"Priya Singh\", 21, \"Delhi\"),\n",
        "    (3, \"Aman Kumar\", 19, \"Hyderabad\"),\n",
        "    (4, \"Sneha Reddy\", 22, \"Chennai\"),\n",
        "    (5, \"Arjun Mehta\", 23, \"Mumbai\"),\n",
        "    (6, \"Divya Nair\", 20, None)   # Student without city\n",
        "]\n",
        "\n",
        "students_cols = [\"student_id\", \"name\", \"age\", \"city\"]\n",
        "students_df = spark.createDataFrame(students_data, students_cols)\n",
        "\n",
        "# Course data\n",
        "courses_data = [\n",
        "    (101, \"Python\", \"Programming\"),\n",
        "    (102, \"Data Science\", \"Analytics\"),\n",
        "    (103, \"Databases\", \"Technology\"),\n",
        "    (104, \"Business Studies\", \"Management\")\n",
        "]\n",
        "\n",
        "courses_cols = [\"course_id\", \"course_name\", \"category\"]\n",
        "courses_df = spark.createDataFrame(courses_data, courses_cols)\n",
        "\n",
        "# Enrollment data\n",
        "enrollment_data = [\n",
        "    (1, 101, \"A\"),\n",
        "    (2, 101, \"B\"),\n",
        "    (3, 102, \"A\"),\n",
        "    (4, 103, \"C\"),\n",
        "    (5, 102, \"B\"),\n",
        "    (7, 104, \"A\")   # Enrollment with non-existent student\n",
        "]\n",
        "\n",
        "enrollment_cols = [\"student_id\", \"course_id\", \"grade\"]\n",
        "enrollment_df = spark.createDataFrame(enrollment_data, enrollment_cols)\n",
        "\n",
        "# Show all DataFrames\n",
        "students_df.show()\n",
        "courses_df.show()\n",
        "enrollment_df.show()\n"
      ]
    },
    {
      "cell_type": "code",
      "source": [
        "# 1. Select all student names and their cities\n",
        "students_df.select(\"name\", \"city\").show()\n",
        "\n",
        "# 2. Find students who are older than 20\n",
        "students_df.filter(students_df.age > 20).show()\n",
        "\n",
        "# 3. List all courses under the \"Analytics\" category\n",
        "courses_df.filter(courses_df.category == \"Analytics\").show()\n"
      ],
      "metadata": {
        "colab": {
          "base_uri": "https://localhost:8080/"
        },
        "id": "yod8LAi_IHRy",
        "outputId": "73381798-40d8-4056-bb95-a156d14bab2b"
      },
      "execution_count": 3,
      "outputs": [
        {
          "output_type": "stream",
          "name": "stdout",
          "text": [
            "+------------+---------+\n",
            "|        name|     city|\n",
            "+------------+---------+\n",
            "|Rahul Sharma|Bangalore|\n",
            "| Priya Singh|    Delhi|\n",
            "|  Aman Kumar|Hyderabad|\n",
            "| Sneha Reddy|  Chennai|\n",
            "| Arjun Mehta|   Mumbai|\n",
            "|  Divya Nair|     NULL|\n",
            "+------------+---------+\n",
            "\n",
            "+----------+-----------+---+-------+\n",
            "|student_id|       name|age|   city|\n",
            "+----------+-----------+---+-------+\n",
            "|         2|Priya Singh| 21|  Delhi|\n",
            "|         4|Sneha Reddy| 22|Chennai|\n",
            "|         5|Arjun Mehta| 23| Mumbai|\n",
            "+----------+-----------+---+-------+\n",
            "\n",
            "+---------+------------+---------+\n",
            "|course_id| course_name| category|\n",
            "+---------+------------+---------+\n",
            "|      102|Data Science|Analytics|\n",
            "+---------+------------+---------+\n",
            "\n"
          ]
        }
      ]
    },
    {
      "cell_type": "code",
      "source": [
        "# 1. Count how many students are enrolled in each course\n",
        "enrollment_df.groupBy(\"course_id\").count().show()\n",
        "\n",
        "# 2. Find the average age of students per city\n",
        "students_df.groupBy(\"city\").avg(\"age\").show()\n",
        "\n",
        "# 3. Get the maximum and minimum age of students\n",
        "students_df.agg({\"age\": \"max\", \"age\": \"min\"}).show()\n"
      ],
      "metadata": {
        "colab": {
          "base_uri": "https://localhost:8080/"
        },
        "id": "-DrGNC25IJgA",
        "outputId": "6ea7fdba-b050-461e-9279-2cffd62a36c1"
      },
      "execution_count": 4,
      "outputs": [
        {
          "output_type": "stream",
          "name": "stdout",
          "text": [
            "+---------+-----+\n",
            "|course_id|count|\n",
            "+---------+-----+\n",
            "|      101|    2|\n",
            "|      102|    2|\n",
            "|      103|    1|\n",
            "|      104|    1|\n",
            "+---------+-----+\n",
            "\n",
            "+---------+--------+\n",
            "|     city|avg(age)|\n",
            "+---------+--------+\n",
            "|Bangalore|    20.0|\n",
            "|    Delhi|    21.0|\n",
            "|Hyderabad|    19.0|\n",
            "|  Chennai|    22.0|\n",
            "|     NULL|    20.0|\n",
            "|   Mumbai|    23.0|\n",
            "+---------+--------+\n",
            "\n",
            "+--------+\n",
            "|min(age)|\n",
            "+--------+\n",
            "|      19|\n",
            "+--------+\n",
            "\n"
          ]
        }
      ]
    },
    {
      "cell_type": "code",
      "source": [
        "# 1. Join students with enrollments to see which student took which course\n",
        "students_df.join(enrollment_df, \"student_id\", \"inner\").show()\n",
        "\n",
        "# 2. Left join enrollments with courses to get course details\n",
        "enrollment_df.join(courses_df, \"course_id\", \"left\").show()\n",
        "\n",
        "# 3. Find students who are not enrolled in any course\n",
        "students_df.join(enrollment_df, \"student_id\", \"left_anti\").show()\n",
        "\n",
        "# 4. Find courses with no students enrolled\n",
        "courses_df.join(enrollment_df, \"course_id\", \"left_anti\").show()\n"
      ],
      "metadata": {
        "colab": {
          "base_uri": "https://localhost:8080/"
        },
        "id": "N_AYezlAIPD8",
        "outputId": "8fa44c53-b6a8-44a9-c1d3-c930174aae70"
      },
      "execution_count": 5,
      "outputs": [
        {
          "output_type": "stream",
          "name": "stdout",
          "text": [
            "+----------+------------+---+---------+---------+-----+\n",
            "|student_id|        name|age|     city|course_id|grade|\n",
            "+----------+------------+---+---------+---------+-----+\n",
            "|         1|Rahul Sharma| 20|Bangalore|      101|    A|\n",
            "|         2| Priya Singh| 21|    Delhi|      101|    B|\n",
            "|         3|  Aman Kumar| 19|Hyderabad|      102|    A|\n",
            "|         4| Sneha Reddy| 22|  Chennai|      103|    C|\n",
            "|         5| Arjun Mehta| 23|   Mumbai|      102|    B|\n",
            "+----------+------------+---+---------+---------+-----+\n",
            "\n",
            "+---------+----------+-----+----------------+-----------+\n",
            "|course_id|student_id|grade|     course_name|   category|\n",
            "+---------+----------+-----+----------------+-----------+\n",
            "|      101|         1|    A|          Python|Programming|\n",
            "|      101|         2|    B|          Python|Programming|\n",
            "|      102|         3|    A|    Data Science|  Analytics|\n",
            "|      103|         4|    C|       Databases| Technology|\n",
            "|      104|         7|    A|Business Studies| Management|\n",
            "|      102|         5|    B|    Data Science|  Analytics|\n",
            "+---------+----------+-----+----------------+-----------+\n",
            "\n",
            "+----------+----------+---+----+\n",
            "|student_id|      name|age|city|\n",
            "+----------+----------+---+----+\n",
            "|         6|Divya Nair| 20|NULL|\n",
            "+----------+----------+---+----+\n",
            "\n",
            "+---------+-----------+--------+\n",
            "|course_id|course_name|category|\n",
            "+---------+-----------+--------+\n",
            "+---------+-----------+--------+\n",
            "\n"
          ]
        }
      ]
    },
    {
      "cell_type": "code",
      "source": [
        "students_df.createOrReplaceTempView(\"students\")\n",
        "courses_df.createOrReplaceTempView(\"courses\")\n",
        "enrollment_df.createOrReplaceTempView(\"enrollments\")\n"
      ],
      "metadata": {
        "id": "8VgNEM9eITjO"
      },
      "execution_count": 6,
      "outputs": []
    },
    {
      "cell_type": "code",
      "source": [
        "# 1. Get all students with their course names and grades\n",
        "spark.sql(\"\"\"\n",
        "SELECT s.name, c.course_name, e.grade\n",
        "FROM students s\n",
        "JOIN enrollments e ON s.student_id = e.student_id\n",
        "JOIN courses c ON e.course_id = c.course_id\n",
        "\"\"\").show()\n",
        "\n",
        "# 2. Find the number of students who got grade \"A\" in each course\n",
        "spark.sql(\"\"\"\n",
        "SELECT c.course_name, COUNT(*) as num_A_students\n",
        "FROM enrollments e\n",
        "JOIN courses c ON e.course_id = c.course_id\n",
        "WHERE e.grade = 'A'\n",
        "GROUP BY c.course_name\n",
        "\"\"\").show()\n",
        "\n",
        "# 3. Find the top city with the most students enrolled in courses\n",
        "spark.sql(\"\"\"\n",
        "SELECT s.city, COUNT(*) as total_enrolled\n",
        "FROM students s\n",
        "JOIN enrollments e ON s.student_id = e.student_id\n",
        "GROUP BY s.city\n",
        "ORDER BY total_enrolled DESC\n",
        "LIMIT 1\n",
        "\"\"\").show()\n"
      ],
      "metadata": {
        "colab": {
          "base_uri": "https://localhost:8080/"
        },
        "id": "Coz0uAe9Iayq",
        "outputId": "64afc87d-825c-4144-a7ef-796044d2e990"
      },
      "execution_count": 7,
      "outputs": [
        {
          "output_type": "stream",
          "name": "stdout",
          "text": [
            "+------------+------------+-----+\n",
            "|        name| course_name|grade|\n",
            "+------------+------------+-----+\n",
            "| Priya Singh|      Python|    B|\n",
            "|Rahul Sharma|      Python|    A|\n",
            "| Arjun Mehta|Data Science|    B|\n",
            "|  Aman Kumar|Data Science|    A|\n",
            "| Sneha Reddy|   Databases|    C|\n",
            "+------------+------------+-----+\n",
            "\n",
            "+----------------+--------------+\n",
            "|     course_name|num_A_students|\n",
            "+----------------+--------------+\n",
            "|Business Studies|             1|\n",
            "|          Python|             1|\n",
            "|    Data Science|             1|\n",
            "+----------------+--------------+\n",
            "\n",
            "+---------+--------------+\n",
            "|     city|total_enrolled|\n",
            "+---------+--------------+\n",
            "|Bangalore|             1|\n",
            "+---------+--------------+\n",
            "\n"
          ]
        }
      ]
    }
  ]
}